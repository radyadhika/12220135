{
 "cells": [
  {
   "cell_type": "code",
   "execution_count": 138,
   "metadata": {},
   "outputs": [],
   "source": [
    "# import packages\n",
    "import pandas as pd\n",
    "import numpy as np\n",
    "import matplotlib.pyplot as plt\n",
    "from matplotlib import cm\n",
    "import json\n",
    "import streamlit as st"
   ]
  },
  {
   "cell_type": "code",
   "execution_count": 139,
   "metadata": {},
   "outputs": [
    {
     "name": "stdout",
     "output_type": "stream",
     "text": [
      "     kode_negara  tahun   produksi\n",
      "0            AUS   1971  14226.194\n",
      "1            AUS   1972  15029.094\n",
      "2            AUS   1973  18720.577\n",
      "3            AUS   1974  18498.696\n",
      "4            AUS   1975  19736.070\n",
      "...          ...    ...        ...\n",
      "5834         ZWE   2011      0.000\n",
      "5835         ZWE   2012      0.000\n",
      "5836         ZWE   2013      0.000\n",
      "5837         ZWE   2014      0.000\n",
      "5838         ZWE   2015      0.000\n",
      "\n",
      "[5839 rows x 3 columns]\n",
      "     kode_negara  tahun   produksi\n",
      "0            AUS   1971  14226.194\n",
      "1            AUS   1972  15029.094\n",
      "2            AUS   1973  18720.577\n",
      "3            AUS   1974  18498.696\n",
      "4            AUS   1975  19736.070\n",
      "...          ...    ...        ...\n",
      "5628         ZWE   2011      0.000\n",
      "5629         ZWE   2012      0.000\n",
      "5630         ZWE   2013      0.000\n",
      "5631         ZWE   2014      0.000\n",
      "5632         ZWE   2015      0.000\n",
      "\n",
      "[5633 rows x 3 columns]\n"
     ]
    }
   ],
   "source": [
    "# read dataset\n",
    "filepath = \"produksi_minyak_mentah.csv\"\n",
    "df = pd.read_csv(filepath)\n",
    "print(df)\n",
    "\n",
    "df_csv_clean = df.set_index(\"kode_negara\")\n",
    "df_csv_clean.head()\n",
    "\n",
    "df_csv_clean = df_csv_clean.drop([\"WLD\",\"G20\",\"OECD\",\"OEU\",\"EU28\"])\n",
    "df_csv_clean.reset_index(drop=False, inplace=True)\n",
    "\n",
    "print(df_csv_clean)"
   ]
  },
  {
   "cell_type": "code",
   "execution_count": 141,
   "metadata": {},
   "outputs": [
    {
     "name": "stdout",
     "output_type": "stream",
     "text": [
      "['ALB', 'DZA', 'AGO', 'ARG', 'ARM', 'AUS', 'AUT', 'AZE', 'BHR', 'BGD', 'BLR', 'BEL', 'BEN', 'BOL', 'BIH', 'BWA', 'BRA', 'BRN', 'BGR', 'KHM', 'CMR', 'CAN', 'CHL', 'CHN', 'COL', 'COG', 'COD', 'CRI', 'CIV', 'HRV', 'CUB', 'CYP', 'CZE', 'DNK', 'DOM', 'ECU', 'EGY', 'SLV', 'ERI', 'EST', 'ETH', 'FIN', 'FRA', 'GAB', 'GEO', 'DEU', 'GHA', 'GRC', 'GTM', 'HTI', 'HND', 'HKG', 'HUN', 'ISL', 'IND', 'IDN', 'IRN', 'IRQ', 'IRL', 'ISR', 'ITA', 'JAM', 'JPN', 'JOR', 'KAZ', 'KEN', 'PRK', 'KOR', 'KWT', 'KGZ', 'LVA', 'LBN', 'LBY', 'LTU', 'LUX', 'MYS', 'MLT', 'MEX', 'MDA', 'MNG', 'MNE', 'MAR', 'MOZ', 'MMR', 'NAM', 'NPL', 'NLD', 'NZL', 'NIC', 'NER', 'NGA', 'MKD', 'NOR', 'OMN', 'PAK', 'PAN', 'PRY', 'PER', 'PHL', 'POL', 'PRT', 'QAT', 'ROU', 'RUS', 'SAU', 'SEN', 'SRB', 'SGP', 'SVK', 'SVN', 'ZAF', 'ESP', 'LKA', 'SDN', 'SWE', 'CHE', 'SYR', 'TWN', 'TJK', 'TZA', 'THA', 'TGO', 'TTO', 'TUN', 'TUR', 'TKM', 'UKR', 'ARE', 'GBR', 'USA', 'URY', 'UZB', 'VEN', 'VNM', 'YEM', 'ZMB', 'ZWE']\n",
      "137\n"
     ]
    }
   ],
   "source": [
    "listkodecsv = []\n",
    "\n",
    "for i in list(df['kode_negara']):\n",
    "    if i not in listkodecsv:\n",
    "        listkodecsv.append(i)\n",
    "\n",
    "namajson = \"kode_negara_lengkap.json\"\n",
    "openjson = open(namajson)\n",
    "loadjson = json.load(openjson)\n",
    "\n",
    "list_kode_bersih = []\n",
    "for i in loadjson :\n",
    "    A = i.get('alpha-3')\n",
    "    list_kode_bersih.append(A)\n",
    "    if A not in listkodecsv:\n",
    "        list_kode_bersih.remove(A)\n",
    "\n",
    "print(list_kode_bersih)\n",
    "print(len(list_kode_bersih))"
   ]
  },
  {
   "cell_type": "code",
   "execution_count": 6,
   "metadata": {},
   "outputs": [
    {
     "data": {
      "text/html": [
       "<div>\n",
       "<style scoped>\n",
       "    .dataframe tbody tr th:only-of-type {\n",
       "        vertical-align: middle;\n",
       "    }\n",
       "\n",
       "    .dataframe tbody tr th {\n",
       "        vertical-align: top;\n",
       "    }\n",
       "\n",
       "    .dataframe thead th {\n",
       "        text-align: right;\n",
       "    }\n",
       "</style>\n",
       "<table border=\"1\" class=\"dataframe\">\n",
       "  <thead>\n",
       "    <tr style=\"text-align: right;\">\n",
       "      <th></th>\n",
       "      <th>NamaNegara</th>\n",
       "      <th>ISO3</th>\n",
       "      <th>KodeNegara</th>\n",
       "      <th>Region</th>\n",
       "      <th>SubRegion</th>\n",
       "    </tr>\n",
       "  </thead>\n",
       "  <tbody>\n",
       "    <tr>\n",
       "      <th>0</th>\n",
       "      <td>Australia</td>\n",
       "      <td>AUS</td>\n",
       "      <td>36</td>\n",
       "      <td>Oceania</td>\n",
       "      <td>Australia and New Zealand</td>\n",
       "    </tr>\n",
       "    <tr>\n",
       "      <th>1</th>\n",
       "      <td>Austria</td>\n",
       "      <td>AUT</td>\n",
       "      <td>40</td>\n",
       "      <td>Europe</td>\n",
       "      <td>Western Europe</td>\n",
       "    </tr>\n",
       "    <tr>\n",
       "      <th>2</th>\n",
       "      <td>Belgium</td>\n",
       "      <td>BEL</td>\n",
       "      <td>56</td>\n",
       "      <td>Europe</td>\n",
       "      <td>Western Europe</td>\n",
       "    </tr>\n",
       "    <tr>\n",
       "      <th>3</th>\n",
       "      <td>Canada</td>\n",
       "      <td>CAN</td>\n",
       "      <td>124</td>\n",
       "      <td>Americas</td>\n",
       "      <td>Northern America</td>\n",
       "    </tr>\n",
       "    <tr>\n",
       "      <th>4</th>\n",
       "      <td>Czechia</td>\n",
       "      <td>CZE</td>\n",
       "      <td>203</td>\n",
       "      <td>Europe</td>\n",
       "      <td>Eastern Europe</td>\n",
       "    </tr>\n",
       "    <tr>\n",
       "      <th>...</th>\n",
       "      <td>...</td>\n",
       "      <td>...</td>\n",
       "      <td>...</td>\n",
       "      <td>...</td>\n",
       "      <td>...</td>\n",
       "    </tr>\n",
       "    <tr>\n",
       "      <th>132</th>\n",
       "      <td>Turkmenistan</td>\n",
       "      <td>SYR</td>\n",
       "      <td>795</td>\n",
       "      <td>Asia</td>\n",
       "      <td>Central Asia</td>\n",
       "    </tr>\n",
       "    <tr>\n",
       "      <th>133</th>\n",
       "      <td>Uzbekistan</td>\n",
       "      <td>TJK</td>\n",
       "      <td>860</td>\n",
       "      <td>Asia</td>\n",
       "      <td>Central Asia</td>\n",
       "    </tr>\n",
       "    <tr>\n",
       "      <th>134</th>\n",
       "      <td>Venezuela (Bolivarian Republic of)</td>\n",
       "      <td>TGO</td>\n",
       "      <td>862</td>\n",
       "      <td>Americas</td>\n",
       "      <td>Latin America and the Caribbean</td>\n",
       "    </tr>\n",
       "    <tr>\n",
       "      <th>135</th>\n",
       "      <td>Yemen</td>\n",
       "      <td>TTO</td>\n",
       "      <td>887</td>\n",
       "      <td>Asia</td>\n",
       "      <td>Western Asia</td>\n",
       "    </tr>\n",
       "    <tr>\n",
       "      <th>136</th>\n",
       "      <td>Zimbabwe</td>\n",
       "      <td>TUN</td>\n",
       "      <td>716</td>\n",
       "      <td>Africa</td>\n",
       "      <td>Sub-Saharan Africa</td>\n",
       "    </tr>\n",
       "  </tbody>\n",
       "</table>\n",
       "<p>137 rows × 5 columns</p>\n",
       "</div>"
      ],
      "text/plain": [
       "                             NamaNegara ISO3  KodeNegara    Region  \\\n",
       "0                             Australia  AUS          36   Oceania   \n",
       "1                               Austria  AUT          40    Europe   \n",
       "2                               Belgium  BEL          56    Europe   \n",
       "3                                Canada  CAN         124  Americas   \n",
       "4                               Czechia  CZE         203    Europe   \n",
       "..                                  ...  ...         ...       ...   \n",
       "132                        Turkmenistan  SYR         795      Asia   \n",
       "133                          Uzbekistan  TJK         860      Asia   \n",
       "134  Venezuela (Bolivarian Republic of)  TGO         862  Americas   \n",
       "135                               Yemen  TTO         887      Asia   \n",
       "136                            Zimbabwe  TUN         716    Africa   \n",
       "\n",
       "                           SubRegion  \n",
       "0          Australia and New Zealand  \n",
       "1                     Western Europe  \n",
       "2                     Western Europe  \n",
       "3                   Northern America  \n",
       "4                     Eastern Europe  \n",
       "..                               ...  \n",
       "132                     Central Asia  \n",
       "133                     Central Asia  \n",
       "134  Latin America and the Caribbean  \n",
       "135                     Western Asia  \n",
       "136               Sub-Saharan Africa  \n",
       "\n",
       "[137 rows x 5 columns]"
      ]
     },
     "execution_count": 6,
     "metadata": {},
     "output_type": "execute_result"
    }
   ],
   "source": [
    "df_json = pd.read_json(namajson)\n",
    "\n",
    "listnama = []\n",
    "listkodenegara = []\n",
    "listregion = []\n",
    "listsubregion = []\n",
    "\n",
    "for i in range(len(listkodecsv)):\n",
    "    for j in range(len(list(df_json['alpha-3']))):\n",
    "        if list(df_json['alpha-3'])[j] == listkodecsv[i] and list(df_json['name'])[j] not in listnama:\n",
    "            listnama.append(list(df_json['name'])[j])\n",
    "            listkodenegara.append(list(df_json['country-code'])[j])\n",
    "            listregion.append(list(df_json['region'])[j])\n",
    "            listsubregion.append(list(df_json['sub-region'])[j])\n",
    "\n",
    "df_json_clean = pd.DataFrame(list(zip(listnama, listkodecsv, listkodenegara, listregion, listsubregion)), columns=['NamaNegara', 'ISO3', 'KodeNegara', 'Region', 'SubRegion'])\n",
    "\n",
    "df_json_clean"
   ]
  },
  {
   "cell_type": "code",
   "execution_count": 21,
   "metadata": {},
   "outputs": [
    {
     "data": {
      "text/plain": [
       "<function matplotlib.pyplot.show(close=None, block=None)>"
      ]
     },
     "execution_count": 21,
     "metadata": {},
     "output_type": "execute_result"
    },
    {
     "data": {
      "image/png": "[encoded data removed]",
      "text/plain": [
       "<Figure size 432x288 with 1 Axes>"
      ]
     },
     "metadata": {
      "needs_background": "light"
     },
     "output_type": "display_data"
    }
   ],
   "source": [
    "# 1 A\n",
    "\n",
    "#N = st.selectbox(\"Daftar Negara\", listnama)\n",
    "N = input(\"Masukkan nama negara: \")\n",
    "N = N.capitalize()\n",
    "\n",
    "for i in range(len(listnama)):\n",
    "    if listnama[i] == N:\n",
    "        kodenegarahuruf = listkodecsv[i]\n",
    "        kodenegaraangka = listkodenegara[i]\n",
    "        region = listregion[i]\n",
    "        subregion = listsubregion[i]\n",
    "\n",
    "# Membuat list baru untuk menampung data produksi negara dan tahunnya\n",
    "grafik1_produksi = []\n",
    "grafik1_tahun = []\n",
    "\n",
    "# Mengambil data produksi dan tahun berdasarkan negara yang dipilih pada\n",
    "# option dan memasukkannya ke list yang telah dibuat\n",
    "for i in range(len(list(df['kode_negara']))):\n",
    "    if kodenegarahuruf == list(df['kode_negara'])[i]:\n",
    "        grafik1_tahun.append(list(df['tahun'])[i])\n",
    "        grafik1_produksi.append(list(df['produksi'])[i])\n",
    "\n",
    "fig, ax = plt.subplots()\n",
    "plt.plot(grafik1_tahun, grafik1_produksi)\n",
    "plt.title('Grafik Produksi Negara ' + N, fontsize = 14)\n",
    "plt.legend([N])\n",
    "plt.xlabel('Tahun', fontsize = 12)\n",
    "plt.ylabel('Produksi', fontsize = 12)\n",
    "plt.grid(axis='y')\n",
    "plt.show"
   ]
  },
  {
   "cell_type": "code",
   "execution_count": 147,
   "metadata": {},
   "outputs": [
    {
     "data": {
      "text/plain": [
       "<function matplotlib.pyplot.show(close=None, block=None)>"
      ]
     },
     "execution_count": 147,
     "metadata": {},
     "output_type": "execute_result"
    },
    {
     "data": {
      "image/png": "[encoded data removed]",
      "text/plain": [
       "<Figure size 432x288 with 1 Axes>"
      ]
     },
     "metadata": {
      "needs_background": "light"
     },
     "output_type": "display_data"
    }
   ],
   "source": [
    "#1 B\n",
    "\n",
    "T = int(input(\"Masukkan tahun: \"))\n",
    "B1 = int(input(\"Berapa negara?\"))\n",
    "\n",
    "dftahun = df_csv_clean.loc[df_csv_clean['tahun'] == T].sort_values(by=['produksi'], ascending=False)\n",
    "dftahun = dftahun[:B1]\n",
    "\n",
    "negara2 = dftahun['kode_negara']\n",
    "produksi2 = dftahun['produksi']\n",
    "fig, ax = plt.subplots()\n",
    "plt.bar(negara2, produksi2)\n",
    "plt.title('Grafik ' + str(B1) + ' Negara Produksi Terbesar pada Tahun ' + str(T), fontsize = 13)\n",
    "plt.xlabel('Negara', fontsize = 12)\n",
    "plt.ylabel('Produksi', fontsize = 12)\n",
    "plt.grid(axis='y')\n",
    "plt.show"
   ]
  },
  {
   "cell_type": "code",
   "execution_count": 38,
   "metadata": {},
   "outputs": [
    {
     "data": {
      "text/plain": [
       "<function matplotlib.pyplot.show(close=None, block=None)>"
      ]
     },
     "execution_count": 38,
     "metadata": {},
     "output_type": "execute_result"
    },
    {
     "data": {
      "image/png": "[encoded data removed]",
      "text/plain": [
       "<Figure size 432x288 with 1 Axes>"
      ]
     },
     "metadata": {
      "needs_background": "light"
     },
     "output_type": "display_data"
    }
   ],
   "source": [
    "# Membuat list baru untuk menampung data produksi minyak kumulatif tiap negara\n",
    "list_sum = []\n",
    "\n",
    "B2 = int(input(\"Berapa negara?\"))\n",
    "\n",
    "# Menjumlahkan produksi minyak tiap negara dan memasukkannya ke list_sum\n",
    "for i in list_kode_bersih:\n",
    "    a = df_csv_clean.loc[df_csv_clean['kode_negara'] == i, 'produksi'].sum()\n",
    "    list_sum.append(a)\n",
    "\n",
    "# Membuat dataframe baru dan diurutkan berdasarkan produksi kumulatif\n",
    "# minyak terbesar\n",
    "df3 = pd.DataFrame(list(zip(listkodecsv, list_sum)), columns=['kode_negara', 'produksi_kumulatif']).sort_values(by=['produksi_kumulatif'], ascending=False)\n",
    "df3 = df3 [:B2]\n",
    "\n",
    "negara3 = df3['kode_negara']\n",
    "produksikumul3 = df3['produksi_kumulatif']\n",
    "\n",
    "fig, ax = plt.subplots()\n",
    "plt.bar(negara3, produksikumul3)\n",
    "plt.title('Grafik ' + str(B1) + ' Negara Produksi Kumulatif Terbesar', fontsize = 13)\n",
    "plt.xlabel('Negara', fontsize = 12)\n",
    "plt.ylabel('Produksi', fontsize = 12)\n",
    "plt.grid(axis='y')\n",
    "plt.show\n",
    "\n",
    "#B2 = int(opt3.number_input(\"Banyak Negara\", min_value=1, max_value=len(df3), key=\"kumulatif\"))"
   ]
  },
  {
   "cell_type": "code",
   "execution_count": 136,
   "metadata": {},
   "outputs": [
    {
     "name": "stdout",
     "output_type": "stream",
     "text": [
      "Produksi Terbesar:\n",
      "SAU\n",
      "17711766.321000002\n",
      "\n",
      "Produksi Terkecil:\n",
      "SEN\n",
      "17.306\n",
      "\n",
      "Produksi Sama Dengan Nol:\n",
      "   kode_negara  produksi_kumulatif\n",
      "0          CHE                 0.0\n",
      "1          NAM                 0.0\n",
      "2          LBN                 0.0\n",
      "3          KEN                 0.0\n",
      "4          PRY                 0.0\n",
      "5          NPL                 0.0\n",
      "6          NIC                 0.0\n",
      "7          PRT                 0.0\n",
      "8          PAN                 0.0\n",
      "9          JAM                 0.0\n",
      "10         LKA                 0.0\n",
      "11         TGO                 0.0\n",
      "12         IRL                 0.0\n",
      "13         ISL                 0.0\n",
      "14         FIN                 0.0\n",
      "15         BEL                 0.0\n",
      "16         LUX                 0.0\n",
      "17         ERI                 0.0\n",
      "18         HND                 0.0\n",
      "19         TZA                 0.0\n",
      "20         MLT                 0.0\n",
      "21         MKD                 0.0\n",
      "22         URY                 0.0\n",
      "23         ZMB                 0.0\n",
      "24         LVA                 0.0\n",
      "25         MNE                 0.0\n",
      "26         HKG                 0.0\n",
      "27         HTI                 0.0\n",
      "28         BWA                 0.0\n",
      "29         ETH                 0.0\n",
      "30         EST                 0.0\n",
      "31         CRI                 0.0\n",
      "32         CYP                 0.0\n",
      "33         KHM                 0.0\n",
      "34         PRK                 0.0\n",
      "35         DOM                 0.0\n",
      "36         BIH                 0.0\n",
      "37         SLV                 0.0\n",
      "38         SGP                 0.0\n",
      "39         ARM                 0.0\n",
      "40         ZWE                 0.0\n"
     ]
    }
   ],
   "source": [
    "dfsummary = pd.DataFrame(list(zip(listkodecsv, list_sum)), columns=['kode_negara', 'produksi_kumulatif']).sort_values(by=['produksi_kumulatif'], ascending=False)\n",
    "\n",
    "df_summary_clean = dfsummary.set_index(\"produksi_kumulatif\")\n",
    "df_summary_clean.head()\n",
    "df_summary_clean = df_summary_clean.drop([0])\n",
    "df_summary_clean.reset_index(drop=False, inplace=True)\n",
    "\n",
    "print(\"Produksi Terbesar:\")\n",
    "print(df_summary_clean.iloc[0]['kode_negara'])\n",
    "print(df_summary_clean.iloc[0]['produksi_kumulatif'])\n",
    "\n",
    "print(\"\\nProduksi Terkecil:\")\n",
    "print(df_summary_clean.iloc[len(df_summary_clean)-1]['kode_negara'])\n",
    "print(df_summary_clean.iloc[len(df_summary_clean)-1]['produksi_kumulatif'])\n",
    "\n",
    "df_summary_bersih = pd.DataFrame(list(zip(listkodecsv, list_sum)), columns=['kode_negara', 'produksi_kumulatif']).sort_values(by=['produksi_kumulatif'], ascending=False)\n",
    "df_summary_bersih = df_summary_bersih.set_index(\"kode_negara\")\n",
    "df_summary_bersih.head()\n",
    "df_summary_bersih = df_summary_bersih.drop([\"WLD\",\"G20\",\"OECD\",\"OEU\",\"EU28\"])\n",
    "df_summary_bersih.reset_index(drop=False, inplace=True)\n",
    "\n",
    "\n",
    "print(\"\\nProduksi Sama Dengan Nol:\")\n",
    "negaranol = df_summary_bersih.iloc[len(df_summary_clean):len(dfsummary)]['kode_negara']\n",
    "produksinol = df_summary_bersih.iloc[len(df_summary_clean):len(dfsummary)]['produksi_kumulatif']\n",
    "\n",
    "dfnol = pd.DataFrame(list(zip(negaranol, produksinol)), columns=['kode_negara', 'produksi_kumulatif'])\n",
    "print(dfnol)"
   ]
  },
  {
   "cell_type": "code",
   "execution_count": 42,
   "metadata": {},
   "outputs": [
    {
     "name": "stdout",
     "output_type": "stream",
     "text": [
      "Summary\n"
     ]
    },
    {
     "ename": "IndexError",
     "evalue": "string index out of range",
     "output_type": "error",
     "traceback": [
      "\u001b[1;31m---------------------------------------------------------------------------\u001b[0m",
      "\u001b[1;31mIndexError\u001b[0m                                Traceback (most recent call last)",
      "\u001b[1;32m~\\AppData\\Local\\Temp/ipykernel_16612/746750135.py\u001b[0m in \u001b[0;36m<module>\u001b[1;34m\u001b[0m\n\u001b[0;32m      8\u001b[0m \u001b[0mmax_produksi\u001b[0m \u001b[1;33m=\u001b[0m \u001b[0mnp\u001b[0m\u001b[1;33m.\u001b[0m\u001b[0masarray\u001b[0m\u001b[1;33m(\u001b[0m\u001b[0mlist_sum\u001b[0m\u001b[1;33m)\u001b[0m\u001b[1;33m.\u001b[0m\u001b[0mmax\u001b[0m\u001b[1;33m(\u001b[0m\u001b[1;33m)\u001b[0m\u001b[1;33m\u001b[0m\u001b[1;33m\u001b[0m\u001b[0m\n\u001b[0;32m      9\u001b[0m \u001b[0mmax_produksi_idx\u001b[0m \u001b[1;33m=\u001b[0m \u001b[0mnp\u001b[0m\u001b[1;33m.\u001b[0m\u001b[0masarray\u001b[0m\u001b[1;33m(\u001b[0m\u001b[0mlist_sum\u001b[0m\u001b[1;33m)\u001b[0m\u001b[1;33m.\u001b[0m\u001b[0margmax\u001b[0m\u001b[1;33m(\u001b[0m\u001b[1;33m)\u001b[0m\u001b[1;33m\u001b[0m\u001b[1;33m\u001b[0m\u001b[0m\n\u001b[1;32m---> 10\u001b[1;33m \u001b[0mkodenegaramax\u001b[0m \u001b[1;33m=\u001b[0m \u001b[0mkodenegara\u001b[0m\u001b[1;33m[\u001b[0m\u001b[0mmax_produksi_idx\u001b[0m\u001b[1;33m]\u001b[0m\u001b[1;33m\u001b[0m\u001b[1;33m\u001b[0m\u001b[0m\n\u001b[0m\u001b[0;32m     11\u001b[0m \u001b[0mprint\u001b[0m\u001b[1;33m(\u001b[0m\u001b[1;34mf\"Jumlah Produksi Terbesar: \\n\"\u001b[0m \u001b[1;33m+\u001b[0m \u001b[1;34mf\", {kodenegara[max_produksi_idx]}, ({max_produksi} TMT)\"\u001b[0m\u001b[1;33m)\u001b[0m\u001b[1;33m\u001b[0m\u001b[1;33m\u001b[0m\u001b[0m\n\u001b[0;32m     12\u001b[0m \u001b[1;33m\u001b[0m\u001b[0m\n",
      "\u001b[1;31mIndexError\u001b[0m: string index out of range"
     ]
    }
   ],
   "source": [
    "'''def return_namanegara(kodenegara):\n",
    "    for key, value in negara_dictionary.items():\n",
    "        if key==kodenegara:\n",
    "            return value\n",
    "    return('Value Not Found')'''\n",
    "\n",
    "print(\"Summary\")\n",
    "max_produksi = np.asarray(list_sum).max()\n",
    "max_produksi_idx = np.asarray(list_sum).argmax()\n",
    "kodenegaramax = kodenegara[max_produksi_idx]\n",
    "print(f\"Jumlah Produksi Terbesar: \\n\" + f\", {kodenegara[max_produksi_idx]}, ({max_produksi} TMT)\")\n",
    "\n",
    "'''DataBaru = [data for data in list_sum if data > 0]\n",
    "min_produksi = np.asarray(DataBaru).min()\n",
    "min_produksi_idx = np.asarray(DataBaru).argmin()\n",
    "kodenegaramin = kodenegara[min_produksi_idx]\n",
    "print(f\"\\nJumlah produksi Terkecil: \\n\" + f\", {kodenegara[min_produksi_idx]}, ({min_produksi} TMT)\")\n",
    "\n",
    "nol_produksi = np.asarray(list_sum).min()\n",
    "nol_produksi_idx = np.asarray(list_sum).argmin()\n",
    "kodenegaranol = kodenegara[nol_produksi_idx]\n",
    "print(f\"\\nJumlah produksi sama dengan nol: \\n\" + f\", {kodenegara[nol_produksi_idx]}, ({nol_produksi} TMT)\")'''"
   ]
  },
  {
   "cell_type": "code",
   "execution_count": 44,
   "metadata": {},
   "outputs": [
    {
     "name": "stdout",
     "output_type": "stream",
     "text": [
      "Total tahun: [0, 0, 0]\n"
     ]
    }
   ],
   "source": [
    "tulis_kode = []\n",
    "for i, kode in enumerate(kodenegara):\n",
    "    tulis_kode.append(f\"{str(i+1)}. {kode}\\n\")\n",
    "tulis_kode = ' '.join(map(str, tulis_kode))\n",
    "tulis_kode\n",
    "\n",
    "total_tahun = []\n",
    "for kode in kodenegara:\n",
    "    jumlah_tahun = df[df['kode_negara']==kode].shape[0]\n",
    "    total_tahun.append(jumlah_tahun)\n",
    "print(f\"Total tahun: {total_tahun}\")"
   ]
  },
  {
   "cell_type": "code",
   "execution_count": 137,
   "metadata": {},
   "outputs": [
    {
     "name": "stdout",
     "output_type": "stream",
     "text": [
      "Kode Negara: ['ALB', 'DZA', 'AGO', 'ARG', 'ARM', 'AUS', 'AUT', 'AZE', 'BHR', 'BGD', 'BLR', 'BEL', 'BEN', 'BOL', 'BIH', 'BWA', 'BRA', 'BRN', 'BGR', 'KHM', 'CMR', 'CAN', 'CHL', 'CHN', 'COL', 'COG', 'COD', 'CRI', 'CIV', 'HRV', 'CUB', 'CYP', 'CZE', 'DNK', 'DOM', 'ECU', 'EGY', 'SLV', 'ERI', 'EST', 'ETH', 'FIN', 'FRA', 'GAB', 'GEO', 'DEU', 'GHA', 'GRC', 'GTM', 'HTI', 'HND', 'HKG', 'HUN', 'ISL', 'IND', 'IDN', 'IRN', 'IRQ', 'IRL', 'ISR', 'ITA', 'JAM', 'JPN', 'JOR', 'KAZ', 'KEN', 'PRK', 'KOR', 'KWT', 'KGZ', 'LVA', 'LBN', 'LBY', 'LTU', 'LUX', 'MYS', 'MLT', 'MEX', 'MDA', 'MNG', 'MNE', 'MAR', 'MOZ', 'MMR', 'NAM', 'NPL', 'NLD', 'NZL', 'NIC', 'NER', 'NGA', 'MKD', 'NOR', 'OMN', 'PAK', 'PAN', 'PRY', 'PER', 'PHL', 'POL', 'PRT', 'QAT', 'ROU', 'RUS', 'SAU', 'SEN', 'SRB', 'SGP', 'SVK', 'SVN', 'ZAF', 'ESP', 'LKA', 'SDN', 'SWE', 'CHE', 'SYR', 'TWN', 'TJK', 'TZA', 'THA', 'TGO', 'TTO', 'TUN', 'TUR', 'TKM', 'UKR', 'ARE', 'GBR', 'USA', 'URY', 'UZB', 'VEN', 'VNM', 'YEM', 'ZMB', 'ZWE']\n",
      "Total Produksi: [41648.0, 2082997.7920000001, 1651748.6570000001, 1289776.545, 0.0, 983345.1590000001, 55050.585999999996, 620312.1390000001, 397518.1869999999, 158.09900000000002, 43839.756, 0.0, 3068.305, 81193.99999999999, 0.0, 0.0, 2176710.168, 391508.60599999997, 3640.261, 0.0, 194062.68, 3973083.387, 34678.042, 6422426.415, 1057620.348, 386413.352, 47979.436, 0.0, 35425.694, 29994.821, 67286.751, 0.0, 5454.608, 340015.531, 0.0, 778221.774, 1517355.2899999996, 0.0, 0.0, 0.0, 0.0, 0.0, 75427.95399999998, 540516.9589999999, 2134.6040000000003, 178675.883, 24206.216, 15300.885, 22204.489999999998, 0.0, 0.0, 0.0, 64780.605, 0.0, 1242566.273, 2906842.5090000005, 8376461.451, 4471447.759999999, 0.0, 29114.571, 165210.51799999998, 0.0, 18592.213000000003, 59.004000000000005, 1334001.4309999999, 0.0, 0.0, 372.25300000000004, 4654151.791, 1526.5780000000002, 0.0, 0.0, 3217166.0640000002, 4419.421, 0.0, 1134048.034, 0.0, 5771632.332, 83.41499999999999, 3592.9700000000003, 0.0, 332.94, 320.22600000000006, 41858.547999999995, 0.0, 0.0, 95648.22699999998, 61987.829, 0.0, 3207.2889999999998, 4457240.553000001, 0.0, 3562716.989, 1507977.726, 99024.712, 0.0, 0.0, 274764.95, 17628.245, 21214.675, 0.0, 1194546.7969999998, 362607.435, 10702753.477000002, 17453803.242000002, 6.1080000000000005, 24868.229000000003, 0.0, 2491.137, 9.219999999999999, 7532.416, 38100.734, 0.0, 240442.522, 104.728, 0.0, 740877.682, 3448.866, 626.1129999999999, 0.0, 197959.936, 0.0, 334229.7099999999, 195881.1, 123869.765, 206885.619, 75607.548, 4335017.233, 3585363.879, 16724138.055000002, 0.0, 133705.123, 6573345.513, 361398.82999999996, 397982.086, 0.0, 0.0]\n"
     ]
    }
   ],
   "source": [
    "kodenegara = list(list_kode_bersih)\n",
    "print(f\"Kode Negara: {kodenegara}\")\n",
    "\n",
    "jumlah_produksi = []\n",
    "for kode in kodenegara:\n",
    "    produksi_minyak = df[df['kode_negara']==kode]['produksi'].unique()\n",
    "    jumlah_produksi.append(produksi_minyak.sum())\n",
    "print(f\"Total Produksi: {jumlah_produksi}\")"
   ]
  }
 ],
 "metadata": {
  "interpreter": {
   "hash": "513dc2e41d739bb2c947903f3c0bbf636d03aa53ab50e61c694a27481c81805e"
  },
  "kernelspec": {
   "display_name": "Python 3.8.8 64-bit ('base': conda)",
   "language": "python",
   "name": "python3"
  },
  "language_info": {
   "codemirror_mode": {
    "name": "ipython",
    "version": 3
   },
   "file_extension": ".py",
   "mimetype": "text/x-python",
   "name": "python",
   "nbconvert_exporter": "python",
   "pygments_lexer": "ipython3",
   "version": "3.9.7"
  },
  "orig_nbformat": 4
 },
 "nbformat": 4,
 "nbformat_minor": 2
}
